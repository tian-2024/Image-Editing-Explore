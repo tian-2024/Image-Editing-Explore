{
 "cells": [
  {
   "cell_type": "code",
   "execution_count": 1,
   "metadata": {},
   "outputs": [],
   "source": [
    "import os\n",
    "os.environ[\"HF_ENDPOINT\"] = \"https://hf-mirror.com\"\n",
    "device = \"cuda:4\"\n",
    "sd = 'runwayml/stable-diffusion-v1-5'"
   ]
  },
  {
   "cell_type": "code",
   "execution_count": 2,
   "metadata": {},
   "outputs": [],
   "source": [
    "import torch\n",
    "import torch.nn as nn\n",
    "import torch.nn.functional as F\n",
    "\n",
    "from diffusers import DDIMScheduler\n",
    "\n",
    "from Freeprompt.diffuser_utils import FreePromptPipeline\n",
    "from Freeprompt.freeprompt_utils import register_attention_control_new\n",
    "from torchvision.utils import save_image\n",
    "from torchvision.io import read_image\n",
    "from Freeprompt.freeprompt import SelfAttentionControlEdit,AttentionStore\n"
   ]
  },
  {
   "cell_type": "markdown",
   "metadata": {},
   "source": [
    "#### Model Construction"
   ]
  },
  {
   "cell_type": "code",
   "execution_count": null,
   "metadata": {},
   "outputs": [],
   "source": [
    "scheduler = DDIMScheduler(\n",
    "    beta_start=0.00085,\n",
    "    beta_end=0.012,\n",
    "    beta_schedule=\"scaled_linear\",\n",
    "    clip_sample=False,\n",
    "    set_alpha_to_one=False,\n",
    ")\n",
    "pipe = FreePromptPipeline.from_pretrained(sd, scheduler=scheduler).to(device)"
   ]
  },
  {
   "cell_type": "markdown",
   "metadata": {},
   "source": [
    "#### Real editing"
   ]
  },
  {
   "cell_type": "code",
   "execution_count": null,
   "metadata": {},
   "outputs": [],
   "source": [
    "def load_image(image_path, device):\n",
    "    image = read_image(image_path)\n",
    "    image = image[:3].unsqueeze_(0).float() / 127.5 - 1.0  # [-1, 1]\n",
    "    image = F.interpolate(image, (512, 512))\n",
    "    image = image.to(device)\n",
    "    return image\n",
    "\n",
    "\n",
    "self_replace_steps = 0.8\n",
    "NUM_DIFFUSION_STEPS = 50\n",
    "\n",
    "out_dir = \"output/\"\n",
    "# mkdir\n",
    "os.makedirs(out_dir, exist_ok=True)\n",
    "\n",
    "SOURCE_IMAGE_PATH = \"000141.jpg\"\n",
    "source_image = load_image(SOURCE_IMAGE_PATH, device)\n",
    "\n",
    "source_prompt = \"\"\n",
    "\n",
    "# invert the source image\n",
    "start_code, latents_list = pipe.invert(\n",
    "    source_image,\n",
    "    source_prompt,\n",
    "    guidance_scale=7.5,\n",
    "    num_inference_steps=50,\n",
    "    return_intermediates=True,\n",
    ")\n",
    "\n",
    "target_prompt = \"a red car\"\n",
    "\n",
    "latents = torch.randn(start_code.shape, device=device)\n",
    "prompts = [source_prompt, target_prompt]\n",
    "\n",
    "start_code = start_code.expand(len(prompts), -1, -1, -1)\n",
    "controller = SelfAttentionControlEdit(\n",
    "    prompts, NUM_DIFFUSION_STEPS, self_replace_steps=self_replace_steps\n",
    ")\n",
    "\n",
    "register_attention_control_new(pipe, controller)\n",
    "\n",
    "# Note: querying the inversion intermediate features latents_list\n",
    "# may obtain better reconstruction and editing results\n",
    "results = pipe(\n",
    "    prompts,\n",
    "    latents=start_code,\n",
    "    guidance_scale=7.5,\n",
    "    ref_intermediate_latents=latents_list,\n",
    ")\n",
    "\n",
    "\n",
    "save_image(results[1], os.path.join(out_dir, str(target_prompt) + \".jpg\"))"
   ]
  },
  {
   "cell_type": "code",
   "execution_count": 22,
   "metadata": {},
   "outputs": [],
   "source": [
    "import numpy as np\n",
    "import matplotlib.pyplot as plt\n",
    "\n",
    "def show_images(tensor):\n",
    "    tensor = tensor.cpu()\n",
    "    image_list = [\n",
    "        Image.fromarray((img.permute(1, 2, 0).numpy() * 255).astype(np.uint8))\n",
    "        for img in tensor\n",
    "    ]\n",
    "    # 使用 matplotlib 显示图片\n",
    "    plt.figure(figsize=(10, 5))\n",
    "    for i, img in enumerate(image_list):\n",
    "        plt.subplot(1, len(image_list), i + 1)\n",
    "        plt.imshow(img)\n",
    "        plt.axis(\"off\")\n",
    "    plt.show()"
   ]
  },
  {
   "cell_type": "code",
   "execution_count": null,
   "metadata": {},
   "outputs": [],
   "source": [
    "show_images(results)"
   ]
  },
  {
   "cell_type": "code",
   "execution_count": null,
   "metadata": {},
   "outputs": [],
   "source": []
  }
 ],
 "metadata": {
  "kernelspec": {
   "display_name": "Python 3.8.5 ('ldm')",
   "language": "python",
   "name": "python3"
  },
  "language_info": {
   "codemirror_mode": {
    "name": "ipython",
    "version": 3
   },
   "file_extension": ".py",
   "mimetype": "text/x-python",
   "name": "python",
   "nbconvert_exporter": "python",
   "pygments_lexer": "ipython3",
   "version": "3.10.16"
  },
  "orig_nbformat": 4,
  "vscode": {
   "interpreter": {
    "hash": "587aa04bacead72c1ffd459abbe4c8140b72ba2b534b24165b36a2ede3d95042"
   }
  }
 },
 "nbformat": 4,
 "nbformat_minor": 2
}
