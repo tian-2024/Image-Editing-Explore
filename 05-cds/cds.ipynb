{
 "cells": [
  {
   "cell_type": "code",
   "execution_count": 1,
   "metadata": {},
   "outputs": [],
   "source": [
    "import os\n",
    "os.environ[\"HF_ENDPOINT\"] = \"https://hf-mirror.com\"\n",
    "device = \"cuda:4\"\n",
    "sd = 'runwayml/stable-diffusion-v1-5'"
   ]
  },
  {
   "cell_type": "code",
   "execution_count": 2,
   "metadata": {},
   "outputs": [],
   "source": [
    "from pipeline_cds import CDSPipeline\n",
    "import torch"
   ]
  },
  {
   "cell_type": "code",
   "execution_count": null,
   "metadata": {},
   "outputs": [],
   "source": [
    "weight_dtype = torch.float16\n",
    "pipe = CDSPipeline.from_pretrained(sd, torch_dtype=weight_dtype).to(device)"
   ]
  },
  {
   "cell_type": "code",
   "execution_count": 4,
   "metadata": {},
   "outputs": [],
   "source": [
    "img_file ='../image/cat1.png'"
   ]
  },
  {
   "cell_type": "code",
   "execution_count": 5,
   "metadata": {},
   "outputs": [],
   "source": [
    "prompt = \"a cat\"\n",
    "trg_prompt = [\"a pig\"]\n",
    "seed = 0\n",
    "num_inference_steps = 200\n",
    "w_cut = 3.0\n",
    "w_dds = 1.0\n",
    "patch_size = [1, 2]\n",
    "n_patches = 256\n",
    "\n",
    "generator = torch.Generator(device).manual_seed(seed)"
   ]
  },
  {
   "cell_type": "code",
   "execution_count": null,
   "metadata": {},
   "outputs": [],
   "source": [
    "result = pipe(\n",
    "    img_path=img_file,\n",
    "    prompt=prompt,\n",
    "    trg_prompt=trg_prompt,\n",
    "    num_inference_steps=num_inference_steps,\n",
    "    generator=generator,\n",
    "    n_patches=n_patches,\n",
    "    patch_size=patch_size,\n",
    ")\n",
    "result"
   ]
  }
 ],
 "metadata": {
  "kernelspec": {
   "display_name": "tian",
   "language": "python",
   "name": "python3"
  },
  "language_info": {
   "codemirror_mode": {
    "name": "ipython",
    "version": 3
   },
   "file_extension": ".py",
   "mimetype": "text/x-python",
   "name": "python",
   "nbconvert_exporter": "python",
   "pygments_lexer": "ipython3",
   "version": "3.10.16"
  }
 },
 "nbformat": 4,
 "nbformat_minor": 2
}
